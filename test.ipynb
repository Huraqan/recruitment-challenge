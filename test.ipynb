{
 "cells": [
  {
   "cell_type": "code",
   "execution_count": 1,
   "metadata": {},
   "outputs": [
    {
     "name": "stderr",
     "output_type": "stream",
     "text": [
      "c:\\Users\\Huraqan\\AppData\\Local\\Programs\\Python\\Python312\\Lib\\site-packages\\pydantic\\_internal\\_config.py:322: UserWarning: Valid config keys have changed in V2:\n",
      "* 'schema_extra' has been renamed to 'json_schema_extra'\n",
      "  warnings.warn(message, UserWarning)\n"
     ]
    },
    {
     "name": "stdout",
     "output_type": "stream",
     "text": [
      "\n",
      " Shop=41 BrandName=-8507421977918128293 ModelGroup=3162564956579801398 ProductGroup=5965103661511607192 day='18' month='05' OriginalSaleAmountInclVAT=95.0\n",
      "<class 'api.User_input'>\n",
      "\n",
      "DATAFRAME CREATED\n",
      "\n",
      "\n",
      "MODEL LOADED\n",
      "\n",
      "\n",
      "DATA TRANSFORMED\n",
      "\n",
      "\n",
      "DATA RECOMBINED\n",
      "\n",
      "       Shop  BrandName  ModelGroup  ProductGroup       day     month  \\\n",
      "0  0.511974   0.822802    0.414954      0.056418  0.380772  0.333333   \n",
      "\n",
      "   OriginalSaleAmountInclVAT  \n",
      "0                       95.0   \n",
      "\n",
      "Shop                         float64\n",
      "BrandName                    float64\n",
      "ModelGroup                   float64\n",
      "ProductGroup                 float64\n",
      "day                          float64\n",
      "month                        float64\n",
      "OriginalSaleAmountInclVAT    float64\n",
      "dtype: object \n",
      "\n"
     ]
    },
    {
     "data": {
      "text/plain": [
       "{'pred': 0}"
      ]
     },
     "execution_count": 1,
     "metadata": {},
     "output_type": "execute_result"
    }
   ],
   "source": [
    "from predict import predict\n",
    "from api import User_input\n",
    "\n",
    "dic = User_input(\n",
    "    Shop = 41,\n",
    "    BrandName = -8507421977918128293,\n",
    "    ModelGroup = 3162564956579801398,\n",
    "    ProductGroup = 5965103661511607192,\n",
    "    day = \"18\",\n",
    "    month = \"05\",\n",
    "    OriginalSaleAmountInclVAT = 95.0,\n",
    ")\n",
    "\n",
    "predict(dic)"
   ]
  }
 ],
 "metadata": {
  "kernelspec": {
   "display_name": "Python 3",
   "language": "python",
   "name": "python3"
  },
  "language_info": {
   "codemirror_mode": {
    "name": "ipython",
    "version": 3
   },
   "file_extension": ".py",
   "mimetype": "text/x-python",
   "name": "python",
   "nbconvert_exporter": "python",
   "pygments_lexer": "ipython3",
   "version": "3.12.1"
  }
 },
 "nbformat": 4,
 "nbformat_minor": 2
}
